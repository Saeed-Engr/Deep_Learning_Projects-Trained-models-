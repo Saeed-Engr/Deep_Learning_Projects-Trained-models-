{
 "cells": [
  {
   "cell_type": "code",
   "execution_count": null,
   "metadata": {},
   "outputs": [],
   "source": []
  },
  {
   "cell_type": "markdown",
   "metadata": {},
   "source": [
    "libraries for Computing:\n",
    "- \n",
    "- Tensorflow / keras: used for training the model \n",
    "- PIL :               used for image processing\n",
    "- Numpy:              used for numerical computation\n",
    "- Os   :              used for joining the path"
   ]
  },
  {
   "cell_type": "code",
   "execution_count": 22,
   "metadata": {
    "id": "uoNDEJLkFLnz"
   },
   "outputs": [],
   "source": [
    "import os\n",
    "import glob\n",
    "import h5py\n",
    "from PIL import Image\n",
    "from keras.models import Sequential, Model\n",
    "from keras.applications.vgg16 import VGG16, preprocess_input\n",
    "from keras.preprocessing.image import ImageDataGenerator,load_img, img_to_array\n",
    "from keras.models import Sequential\n",
    "from keras.layers import Conv2D, MaxPooling2D, Dense, Dropout, Input, Flatten, SeparableConv2D\n",
    "from keras.layers import GlobalMaxPooling2D\n",
    "from tensorflow.keras.layers import BatchNormalization\n",
    "from keras.models import Model\n",
    "from tensorflow.keras.optimizers import Adam , SGD, RMSprop\n",
    "from keras.callbacks import ModelCheckpoint, Callback, EarlyStopping\n",
    "from tensorflow.keras.utils import to_categorical\n",
    "from keras import backend as K\n",
    "import numpy as np"
   ]
  },
  {
   "cell_type": "code",
   "execution_count": null,
   "metadata": {},
   "outputs": [],
   "source": []
  },
  {
   "cell_type": "markdown",
   "metadata": {},
   "source": [
    "Loading Data\n",
    "-\n",
    "- Uaing imagedatagenerator for reading/loading images from directory\n",
    "- batch_size used for how many images read togather\n",
    "- Rescal meaning image into 0,1\n",
    "- target size mean images dimension(height, width,channel)\n",
    "- 4000 images for training and 1000 images for testing"
   ]
  },
  {
   "cell_type": "code",
   "execution_count": 23,
   "metadata": {
    "colab": {
     "base_uri": "https://localhost:8080/"
    },
    "id": "V1HJhvGZFhTz",
    "outputId": "4584fc13-99cc-4e55-e0ce-c8e3816acc71"
   },
   "outputs": [
    {
     "name": "stdout",
     "output_type": "stream",
     "text": [
      "Found 4000 images belonging to 5 classes.\n",
      "Found 1000 images belonging to 5 classes.\n"
     ]
    }
   ],
   "source": [
    "batch_size = 16          #  was 16 for validation\n",
    "\n",
    "train_images = '/content/drive/MyDrive/Face Data/FaceShape Dataset/training_set'\n",
    "test_images = '/content/drive/MyDrive/Face Data/FaceShape Dataset/testing_set'\n",
    "\n",
    "Train_Datagen = ImageDataGenerator(\n",
    "               preprocessing_function= preprocess_input, horizontal_flip = True )\n",
    "\n",
    "val_Datagen = ImageDataGenerator(\n",
    "                preprocessing_function= preprocess_input )\n",
    "\n",
    "train_data = Train_Datagen.flow_from_directory( train_images, target_size = (224, 224),\n",
    "                                              batch_size =batch_size, class_mode = 'categorical' )\n",
    "\n",
    "batches = val_Datagen.flow_from_directory( test_images, target_size = (224, 224),\n",
    "                                             batch_size = 1000, class_mode = 'categorical')\n"
   ]
  },
  {
   "cell_type": "markdown",
   "metadata": {},
   "source": [
    "Creating labels\n",
    "-\n",
    "- sperate images and labels from dataset\n",
    "- checks the dataset categories indexes"
   ]
  },
  {
   "cell_type": "code",
   "execution_count": 24,
   "metadata": {
    "colab": {
     "base_uri": "https://localhost:8080/"
    },
    "id": "GO2k1PwBFmwI",
    "outputId": "d6a16ed2-e557-4bf5-983d-6c8663e49a1f"
   },
   "outputs": [
    {
     "data": {
      "text/plain": [
       "{'Heart': 0, 'Oblong': 1, 'Oval': 2, 'Round': 3, 'Square': 4}"
      ]
     },
     "execution_count": 24,
     "metadata": {},
     "output_type": "execute_result"
    }
   ],
   "source": [
    "from PIL import ImageFile\n",
    "ImageFile.LOAD_TRUNCATED_IMAGES = True\n",
    "\n",
    "imgs, labels = next(batches)\n",
    "\n",
    "batches.class_indices"
   ]
  },
  {
   "cell_type": "markdown",
   "metadata": {},
   "source": []
  },
  {
   "cell_type": "markdown",
   "metadata": {},
   "source": [
    "splitting dataset\n",
    "- \n",
    "- training data already splitting 4000 images\n",
    "- using python libraries sklearn \n",
    "- testing data 1000 images\n",
    "- Splitting 50% testing and validation 50% data"
   ]
  },
  {
   "cell_type": "code",
   "execution_count": 25,
   "metadata": {
    "colab": {
     "base_uri": "https://localhost:8080/"
    },
    "id": "7HbQis1KFqgc",
    "outputId": "a9bf708e-6303-4ada-88ef-3d7f6ed38a04"
   },
   "outputs": [
    {
     "name": "stdout",
     "output_type": "stream",
     "text": [
      "(1000, 224, 224, 3)\n",
      "(1000, 5)\n",
      "*********************************\n"
     ]
    }
   ],
   "source": [
    "print(imgs.shape)\n",
    "print(labels.shape)\n",
    "\n",
    "print(\"*********************************\")\n",
    "\n",
    "from sklearn.model_selection import train_test_split\n",
    "# Train, validation and test split\n",
    "\n",
    "X_val, X_test, y_val, y_test = train_test_split(imgs,labels, test_size=0.5, random_state=7)\n",
    "\n"
   ]
  },
  {
   "cell_type": "code",
   "execution_count": 26,
   "metadata": {
    "colab": {
     "base_uri": "https://localhost:8080/"
    },
    "id": "SlLNlqXJFvdW",
    "outputId": "a81e8e08-575a-4905-f7a4-223d484cff63"
   },
   "outputs": [
    {
     "name": "stdout",
     "output_type": "stream",
     "text": [
      "*-*-*-*-*-*\n",
      "Train\n",
      "(500, 224, 224, 3)\n",
      "(500, 5)\n",
      "*-*-*-*-*-*\n",
      "Test\n",
      "(500, 224, 224, 3)\n",
      "(500, 5)\n"
     ]
    }
   ],
   "source": [
    "print(\"*-*-*-*-*-*\")\n",
    "print(\"Train\")\n",
    "print(X_val.shape)\n",
    "print(y_val.shape)\n",
    "\n",
    "print(\"*-*-*-*-*-*\")\n",
    "print(\"Test\")\n",
    "print(X_test.shape)\n",
    "print(y_test.shape)"
   ]
  },
  {
   "cell_type": "code",
   "execution_count": null,
   "metadata": {},
   "outputs": [],
   "source": []
  },
  {
   "cell_type": "markdown",
   "metadata": {},
   "source": [
    "Building CNN Model\n",
    "- \n",
    "- images size 224,224,3\n",
    "- activation 'relu'\n",
    "- Convent2d, maxpooling, batchnormalization\n",
    "- Dense layers, flatten layers\n",
    "- drpout and 'softmax'"
   ]
  },
  {
   "cell_type": "code",
   "execution_count": 27,
   "metadata": {
    "id": "Da2X_147Fyg6"
   },
   "outputs": [],
   "source": [
    "def build_model():\n",
    "    input_img = Input(shape=(224,224,3), name='ImageInput')\n",
    "    x = Conv2D(64, (3,3), activation='relu', padding='same', name='Conv1_1')(input_img)\n",
    "    x = Conv2D(64, (3,3), activation='relu', padding='same', name='Conv1_2')(x)\n",
    "    x = MaxPooling2D((2,2), name='pool1')(x)\n",
    "    \n",
    "    x = SeparableConv2D(128, (3,3), activation='relu', padding='same', name='Conv2_1')(x)\n",
    "    x = SeparableConv2D(128, (3,3), activation='relu', padding='same', name='Conv2_2')(x)\n",
    "    x = MaxPooling2D((2,2), name='pool2')(x)\n",
    "    \n",
    "    x = SeparableConv2D(256, (3,3), activation='relu', padding='same', name='Conv3_1')(x)\n",
    "    x = BatchNormalization(name='bn1')(x)\n",
    "    x = SeparableConv2D(256, (3,3), activation='relu', padding='same', name='Conv3_2')(x)\n",
    "    x = BatchNormalization(name='bn2')(x)\n",
    "    x = SeparableConv2D(256, (3,3), activation='relu', padding='same', name='Conv3_3')(x)\n",
    "    x = MaxPooling2D((2,2), name='pool3')(x)\n",
    "    \n",
    "    x = SeparableConv2D(512, (3,3), activation='relu', padding='same', name='Conv4_1')(x)\n",
    "    x = BatchNormalization(name='bn3')(x)\n",
    "    x = SeparableConv2D(512, (3,3), activation='relu', padding='same', name='Conv4_2')(x)\n",
    "    x = BatchNormalization(name='bn4')(x)\n",
    "    x = SeparableConv2D(512, (3,3), activation='relu', padding='same', name='Conv4_3')(x)\n",
    "    x = MaxPooling2D((2,2), name='pool4')(x)\n",
    "    \n",
    "    x = Flatten(name='flatten')(x)\n",
    "    x = Dense(1024, activation='relu', name='fc1')(x)\n",
    "    x = Dropout(0.7, name='dropout1')(x)\n",
    "    x = Dense(512, activation='relu', name='fc2')(x)\n",
    "    x = Dropout(0.5, name='dropout2')(x)\n",
    "    x = Dense(5, activation='softmax', name='fc3')(x)\n",
    "    \n",
    "    model = Model(inputs=input_img, outputs=x)\n",
    "    return model"
   ]
  },
  {
   "cell_type": "code",
   "execution_count": 28,
   "metadata": {
    "colab": {
     "base_uri": "https://localhost:8080/"
    },
    "id": "vuNyGvXrF25Q",
    "outputId": "f7872718-9f9b-4d96-9d83-b0494b0d9d27"
   },
   "outputs": [
    {
     "name": "stdout",
     "output_type": "stream",
     "text": [
      "Model: \"model_2\"\n",
      "_________________________________________________________________\n",
      " Layer (type)                Output Shape              Param #   \n",
      "=================================================================\n",
      " ImageInput (InputLayer)     [(None, 224, 224, 3)]     0         \n",
      "                                                                 \n",
      " Conv1_1 (Conv2D)            (None, 224, 224, 64)      1792      \n",
      "                                                                 \n",
      " Conv1_2 (Conv2D)            (None, 224, 224, 64)      36928     \n",
      "                                                                 \n",
      " pool1 (MaxPooling2D)        (None, 112, 112, 64)      0         \n",
      "                                                                 \n",
      " Conv2_1 (SeparableConv2D)   (None, 112, 112, 128)     8896      \n",
      "                                                                 \n",
      " Conv2_2 (SeparableConv2D)   (None, 112, 112, 128)     17664     \n",
      "                                                                 \n",
      " pool2 (MaxPooling2D)        (None, 56, 56, 128)       0         \n",
      "                                                                 \n",
      " Conv3_1 (SeparableConv2D)   (None, 56, 56, 256)       34176     \n",
      "                                                                 \n",
      " bn1 (BatchNormalization)    (None, 56, 56, 256)       1024      \n",
      "                                                                 \n",
      " Conv3_2 (SeparableConv2D)   (None, 56, 56, 256)       68096     \n",
      "                                                                 \n",
      " bn2 (BatchNormalization)    (None, 56, 56, 256)       1024      \n",
      "                                                                 \n",
      " Conv3_3 (SeparableConv2D)   (None, 56, 56, 256)       68096     \n",
      "                                                                 \n",
      " pool3 (MaxPooling2D)        (None, 28, 28, 256)       0         \n",
      "                                                                 \n",
      " Conv4_1 (SeparableConv2D)   (None, 28, 28, 512)       133888    \n",
      "                                                                 \n",
      " bn3 (BatchNormalization)    (None, 28, 28, 512)       2048      \n",
      "                                                                 \n",
      " Conv4_2 (SeparableConv2D)   (None, 28, 28, 512)       267264    \n",
      "                                                                 \n",
      " bn4 (BatchNormalization)    (None, 28, 28, 512)       2048      \n",
      "                                                                 \n",
      " Conv4_3 (SeparableConv2D)   (None, 28, 28, 512)       267264    \n",
      "                                                                 \n",
      " pool4 (MaxPooling2D)        (None, 14, 14, 512)       0         \n",
      "                                                                 \n",
      " flatten (Flatten)           (None, 100352)            0         \n",
      "                                                                 \n",
      " fc1 (Dense)                 (None, 1024)              102761472 \n",
      "                                                                 \n",
      " dropout1 (Dropout)          (None, 1024)              0         \n",
      "                                                                 \n",
      " fc2 (Dense)                 (None, 512)               524800    \n",
      "                                                                 \n",
      " dropout2 (Dropout)          (None, 512)               0         \n",
      "                                                                 \n",
      " fc3 (Dense)                 (None, 5)                 2565      \n",
      "                                                                 \n",
      "=================================================================\n",
      "Total params: 104,199,045\n",
      "Trainable params: 104,195,973\n",
      "Non-trainable params: 3,072\n",
      "_________________________________________________________________\n"
     ]
    }
   ],
   "source": [
    "model =  build_model()\n",
    "model.summary()"
   ]
  },
  {
   "cell_type": "markdown",
   "metadata": {},
   "source": [
    "Compile the model\n",
    "-\n",
    "- set the learning rate is 0.0001\n",
    "- adding early stoping\n",
    "- matrix accuracy"
   ]
  },
  {
   "cell_type": "code",
   "execution_count": 29,
   "metadata": {
    "id": "tHjLEPtnF8Gt"
   },
   "outputs": [],
   "source": [
    "# opt = RMSprop(lr=0.0001, decay=1e-6)\n",
    "\n",
    "opt = Adam(learning_rate=0.0001, decay=1e-5)\n",
    "es = EarlyStopping(patience=5,min_delta= .05, monitor=\"val_acc\")\n",
    "chkpt = ModelCheckpoint(filepath='best_model_todate', save_best_only=True, save_weights_only=True)\n",
    "\n",
    "model.compile(loss='categorical_crossentropy', metrics=['accuracy'],optimizer=opt)"
   ]
  },
  {
   "cell_type": "markdown",
   "metadata": {},
   "source": [
    "Fitting method for training\n",
    "- \n",
    "- training and validation data\n",
    "- epochs 50\n",
    "- callbacks"
   ]
  },
  {
   "cell_type": "code",
   "execution_count": 30,
   "metadata": {
    "colab": {
     "base_uri": "https://localhost:8080/"
    },
    "id": "m5rh6wk1GA2J",
    "outputId": "e74c2a71-c1c2-4fec-ff16-a74ee4495bb3"
   },
   "outputs": [
    {
     "name": "stdout",
     "output_type": "stream",
     "text": [
      "Epoch 1/50\n",
      "250/250 [==============================] - ETA: 0s - loss: 1.6071 - accuracy: 0.2130WARNING:tensorflow:Early stopping conditioned on metric `val_acc` which is not available. Available metrics are: loss,accuracy,val_loss,val_accuracy\n",
      "250/250 [==============================] - 88s 346ms/step - loss: 1.6071 - accuracy: 0.2130 - val_loss: 1.6100 - val_accuracy: 0.1820\n",
      "Epoch 2/50\n",
      "250/250 [==============================] - ETA: 0s - loss: 1.5785 - accuracy: 0.2573WARNING:tensorflow:Early stopping conditioned on metric `val_acc` which is not available. Available metrics are: loss,accuracy,val_loss,val_accuracy\n",
      "250/250 [==============================] - 81s 324ms/step - loss: 1.5785 - accuracy: 0.2573 - val_loss: 1.6087 - val_accuracy: 0.1860\n",
      "Epoch 3/50\n",
      "250/250 [==============================] - ETA: 0s - loss: 1.5208 - accuracy: 0.3120WARNING:tensorflow:Early stopping conditioned on metric `val_acc` which is not available. Available metrics are: loss,accuracy,val_loss,val_accuracy\n",
      "250/250 [==============================] - 81s 324ms/step - loss: 1.5208 - accuracy: 0.3120 - val_loss: 1.5523 - val_accuracy: 0.3200\n",
      "Epoch 4/50\n",
      "250/250 [==============================] - ETA: 0s - loss: 1.4731 - accuracy: 0.3445WARNING:tensorflow:Early stopping conditioned on metric `val_acc` which is not available. Available metrics are: loss,accuracy,val_loss,val_accuracy\n",
      "250/250 [==============================] - 75s 299ms/step - loss: 1.4731 - accuracy: 0.3445 - val_loss: 1.5725 - val_accuracy: 0.3600\n",
      "Epoch 5/50\n",
      "250/250 [==============================] - ETA: 0s - loss: 1.4127 - accuracy: 0.3988WARNING:tensorflow:Early stopping conditioned on metric `val_acc` which is not available. Available metrics are: loss,accuracy,val_loss,val_accuracy\n",
      "250/250 [==============================] - 80s 318ms/step - loss: 1.4127 - accuracy: 0.3988 - val_loss: 1.4476 - val_accuracy: 0.3520\n",
      "Epoch 6/50\n",
      "250/250 [==============================] - ETA: 0s - loss: 1.3663 - accuracy: 0.4162WARNING:tensorflow:Early stopping conditioned on metric `val_acc` which is not available. Available metrics are: loss,accuracy,val_loss,val_accuracy\n",
      "250/250 [==============================] - 75s 300ms/step - loss: 1.3663 - accuracy: 0.4162 - val_loss: 1.4620 - val_accuracy: 0.3680\n",
      "Epoch 7/50\n",
      "250/250 [==============================] - ETA: 0s - loss: 1.3260 - accuracy: 0.4350WARNING:tensorflow:Early stopping conditioned on metric `val_acc` which is not available. Available metrics are: loss,accuracy,val_loss,val_accuracy\n",
      "250/250 [==============================] - 80s 319ms/step - loss: 1.3260 - accuracy: 0.4350 - val_loss: 1.3954 - val_accuracy: 0.3960\n",
      "Epoch 8/50\n",
      "250/250 [==============================] - ETA: 0s - loss: 1.2632 - accuracy: 0.4728WARNING:tensorflow:Early stopping conditioned on metric `val_acc` which is not available. Available metrics are: loss,accuracy,val_loss,val_accuracy\n",
      "250/250 [==============================] - 75s 301ms/step - loss: 1.2632 - accuracy: 0.4728 - val_loss: 1.4090 - val_accuracy: 0.4080\n",
      "Epoch 9/50\n",
      "250/250 [==============================] - ETA: 0s - loss: 1.2149 - accuracy: 0.5013WARNING:tensorflow:Early stopping conditioned on metric `val_acc` which is not available. Available metrics are: loss,accuracy,val_loss,val_accuracy\n",
      "250/250 [==============================] - 80s 319ms/step - loss: 1.2149 - accuracy: 0.5013 - val_loss: 1.3265 - val_accuracy: 0.4220\n",
      "Epoch 10/50\n",
      "250/250 [==============================] - ETA: 0s - loss: 1.1682 - accuracy: 0.5310WARNING:tensorflow:Early stopping conditioned on metric `val_acc` which is not available. Available metrics are: loss,accuracy,val_loss,val_accuracy\n",
      "250/250 [==============================] - 80s 319ms/step - loss: 1.1682 - accuracy: 0.5310 - val_loss: 1.3214 - val_accuracy: 0.4400\n",
      "Epoch 11/50\n",
      "250/250 [==============================] - ETA: 0s - loss: 1.0942 - accuracy: 0.5502WARNING:tensorflow:Early stopping conditioned on metric `val_acc` which is not available. Available metrics are: loss,accuracy,val_loss,val_accuracy\n",
      "250/250 [==============================] - 81s 323ms/step - loss: 1.0942 - accuracy: 0.5502 - val_loss: 1.2642 - val_accuracy: 0.4760\n",
      "Epoch 12/50\n",
      "250/250 [==============================] - ETA: 0s - loss: 1.0362 - accuracy: 0.5788WARNING:tensorflow:Early stopping conditioned on metric `val_acc` which is not available. Available metrics are: loss,accuracy,val_loss,val_accuracy\n",
      "250/250 [==============================] - 75s 298ms/step - loss: 1.0362 - accuracy: 0.5788 - val_loss: 1.2855 - val_accuracy: 0.4820\n",
      "Epoch 13/50\n",
      "250/250 [==============================] - ETA: 0s - loss: 0.9715 - accuracy: 0.6160WARNING:tensorflow:Early stopping conditioned on metric `val_acc` which is not available. Available metrics are: loss,accuracy,val_loss,val_accuracy\n",
      "250/250 [==============================] - 79s 317ms/step - loss: 0.9715 - accuracy: 0.6160 - val_loss: 1.2189 - val_accuracy: 0.5000\n",
      "Epoch 14/50\n",
      "250/250 [==============================] - ETA: 0s - loss: 0.8945 - accuracy: 0.6490WARNING:tensorflow:Early stopping conditioned on metric `val_acc` which is not available. Available metrics are: loss,accuracy,val_loss,val_accuracy\n",
      "250/250 [==============================] - 80s 319ms/step - loss: 0.8945 - accuracy: 0.6490 - val_loss: 1.2019 - val_accuracy: 0.5100\n",
      "Epoch 15/50\n",
      "250/250 [==============================] - ETA: 0s - loss: 0.8155 - accuracy: 0.6835WARNING:tensorflow:Early stopping conditioned on metric `val_acc` which is not available. Available metrics are: loss,accuracy,val_loss,val_accuracy\n",
      "250/250 [==============================] - 80s 320ms/step - loss: 0.8155 - accuracy: 0.6835 - val_loss: 1.1681 - val_accuracy: 0.5560\n",
      "Epoch 16/50\n",
      "250/250 [==============================] - ETA: 0s - loss: 0.7569 - accuracy: 0.7107WARNING:tensorflow:Early stopping conditioned on metric `val_acc` which is not available. Available metrics are: loss,accuracy,val_loss,val_accuracy\n",
      "250/250 [==============================] - 76s 301ms/step - loss: 0.7569 - accuracy: 0.7107 - val_loss: 1.2762 - val_accuracy: 0.5260\n",
      "Epoch 17/50\n",
      "250/250 [==============================] - ETA: 0s - loss: 0.6862 - accuracy: 0.7343WARNING:tensorflow:Early stopping conditioned on metric `val_acc` which is not available. Available metrics are: loss,accuracy,val_loss,val_accuracy\n",
      "250/250 [==============================] - 75s 298ms/step - loss: 0.6862 - accuracy: 0.7343 - val_loss: 1.2400 - val_accuracy: 0.5360\n",
      "Epoch 18/50\n",
      "250/250 [==============================] - ETA: 0s - loss: 0.6004 - accuracy: 0.7775WARNING:tensorflow:Early stopping conditioned on metric `val_acc` which is not available. Available metrics are: loss,accuracy,val_loss,val_accuracy\n",
      "250/250 [==============================] - 75s 301ms/step - loss: 0.6004 - accuracy: 0.7775 - val_loss: 1.4718 - val_accuracy: 0.5200\n",
      "Epoch 19/50\n",
      "250/250 [==============================] - ETA: 0s - loss: 0.5546 - accuracy: 0.7850WARNING:tensorflow:Early stopping conditioned on metric `val_acc` which is not available. Available metrics are: loss,accuracy,val_loss,val_accuracy\n",
      "250/250 [==============================] - 75s 298ms/step - loss: 0.5546 - accuracy: 0.7850 - val_loss: 1.4764 - val_accuracy: 0.5140\n",
      "Epoch 20/50\n",
      "250/250 [==============================] - ETA: 0s - loss: 0.5120 - accuracy: 0.8040WARNING:tensorflow:Early stopping conditioned on metric `val_acc` which is not available. Available metrics are: loss,accuracy,val_loss,val_accuracy\n",
      "250/250 [==============================] - 75s 298ms/step - loss: 0.5120 - accuracy: 0.8040 - val_loss: 1.4050 - val_accuracy: 0.5520\n",
      "Epoch 21/50\n",
      "250/250 [==============================] - ETA: 0s - loss: 0.4438 - accuracy: 0.8382WARNING:tensorflow:Early stopping conditioned on metric `val_acc` which is not available. Available metrics are: loss,accuracy,val_loss,val_accuracy\n",
      "250/250 [==============================] - 75s 298ms/step - loss: 0.4438 - accuracy: 0.8382 - val_loss: 1.3703 - val_accuracy: 0.5540\n",
      "Epoch 22/50\n",
      "250/250 [==============================] - ETA: 0s - loss: 0.3832 - accuracy: 0.8587WARNING:tensorflow:Early stopping conditioned on metric `val_acc` which is not available. Available metrics are: loss,accuracy,val_loss,val_accuracy\n",
      "250/250 [==============================] - 75s 298ms/step - loss: 0.3832 - accuracy: 0.8587 - val_loss: 1.3767 - val_accuracy: 0.5660\n",
      "Epoch 23/50\n",
      "250/250 [==============================] - ETA: 0s - loss: 0.3437 - accuracy: 0.8767WARNING:tensorflow:Early stopping conditioned on metric `val_acc` which is not available. Available metrics are: loss,accuracy,val_loss,val_accuracy\n",
      "250/250 [==============================] - 74s 297ms/step - loss: 0.3437 - accuracy: 0.8767 - val_loss: 1.4152 - val_accuracy: 0.5620\n",
      "Epoch 24/50\n",
      "250/250 [==============================] - ETA: 0s - loss: 0.3197 - accuracy: 0.8875WARNING:tensorflow:Early stopping conditioned on metric `val_acc` which is not available. Available metrics are: loss,accuracy,val_loss,val_accuracy\n",
      "250/250 [==============================] - 75s 298ms/step - loss: 0.3197 - accuracy: 0.8875 - val_loss: 1.4608 - val_accuracy: 0.5880\n",
      "Epoch 25/50\n",
      "250/250 [==============================] - ETA: 0s - loss: 0.2702 - accuracy: 0.9015WARNING:tensorflow:Early stopping conditioned on metric `val_acc` which is not available. Available metrics are: loss,accuracy,val_loss,val_accuracy\n",
      "250/250 [==============================] - 75s 299ms/step - loss: 0.2702 - accuracy: 0.9015 - val_loss: 1.5524 - val_accuracy: 0.5600\n",
      "Epoch 26/50\n",
      "250/250 [==============================] - ETA: 0s - loss: 0.2557 - accuracy: 0.9120WARNING:tensorflow:Early stopping conditioned on metric `val_acc` which is not available. Available metrics are: loss,accuracy,val_loss,val_accuracy\n",
      "250/250 [==============================] - 74s 297ms/step - loss: 0.2557 - accuracy: 0.9120 - val_loss: 1.8203 - val_accuracy: 0.5720\n",
      "Epoch 27/50\n",
      "250/250 [==============================] - ETA: 0s - loss: 0.2181 - accuracy: 0.9247WARNING:tensorflow:Early stopping conditioned on metric `val_acc` which is not available. Available metrics are: loss,accuracy,val_loss,val_accuracy\n",
      "250/250 [==============================] - 75s 298ms/step - loss: 0.2181 - accuracy: 0.9247 - val_loss: 1.6537 - val_accuracy: 0.5620\n",
      "Epoch 28/50\n",
      "250/250 [==============================] - ETA: 0s - loss: 0.1842 - accuracy: 0.9337WARNING:tensorflow:Early stopping conditioned on metric `val_acc` which is not available. Available metrics are: loss,accuracy,val_loss,val_accuracy\n",
      "250/250 [==============================] - 75s 298ms/step - loss: 0.1842 - accuracy: 0.9337 - val_loss: 1.8960 - val_accuracy: 0.5400\n",
      "Epoch 29/50\n",
      "250/250 [==============================] - ETA: 0s - loss: 0.1816 - accuracy: 0.9398WARNING:tensorflow:Early stopping conditioned on metric `val_acc` which is not available. Available metrics are: loss,accuracy,val_loss,val_accuracy\n",
      "250/250 [==============================] - 75s 300ms/step - loss: 0.1816 - accuracy: 0.9398 - val_loss: 1.6061 - val_accuracy: 0.6080\n",
      "Epoch 30/50\n",
      "250/250 [==============================] - ETA: 0s - loss: 0.1789 - accuracy: 0.9392WARNING:tensorflow:Early stopping conditioned on metric `val_acc` which is not available. Available metrics are: loss,accuracy,val_loss,val_accuracy\n",
      "250/250 [==============================] - 75s 298ms/step - loss: 0.1789 - accuracy: 0.9392 - val_loss: 1.9848 - val_accuracy: 0.5620\n",
      "Epoch 31/50\n",
      "250/250 [==============================] - ETA: 0s - loss: 0.1345 - accuracy: 0.9540WARNING:tensorflow:Early stopping conditioned on metric `val_acc` which is not available. Available metrics are: loss,accuracy,val_loss,val_accuracy\n",
      "250/250 [==============================] - 75s 299ms/step - loss: 0.1345 - accuracy: 0.9540 - val_loss: 1.7072 - val_accuracy: 0.6020\n",
      "Epoch 32/50\n",
      "250/250 [==============================] - ETA: 0s - loss: 0.1210 - accuracy: 0.9610WARNING:tensorflow:Early stopping conditioned on metric `val_acc` which is not available. Available metrics are: loss,accuracy,val_loss,val_accuracy\n",
      "250/250 [==============================] - 75s 300ms/step - loss: 0.1210 - accuracy: 0.9610 - val_loss: 2.1336 - val_accuracy: 0.5460\n",
      "Epoch 33/50\n",
      "250/250 [==============================] - ETA: 0s - loss: 0.1190 - accuracy: 0.9580WARNING:tensorflow:Early stopping conditioned on metric `val_acc` which is not available. Available metrics are: loss,accuracy,val_loss,val_accuracy\n",
      "250/250 [==============================] - 75s 301ms/step - loss: 0.1190 - accuracy: 0.9580 - val_loss: 2.0735 - val_accuracy: 0.5740\n",
      "Epoch 34/50\n",
      "250/250 [==============================] - ETA: 0s - loss: 0.1192 - accuracy: 0.9575WARNING:tensorflow:Early stopping conditioned on metric `val_acc` which is not available. Available metrics are: loss,accuracy,val_loss,val_accuracy\n",
      "250/250 [==============================] - 75s 301ms/step - loss: 0.1192 - accuracy: 0.9575 - val_loss: 2.2039 - val_accuracy: 0.5620\n",
      "Epoch 35/50\n",
      "250/250 [==============================] - ETA: 0s - loss: 0.1133 - accuracy: 0.9638WARNING:tensorflow:Early stopping conditioned on metric `val_acc` which is not available. Available metrics are: loss,accuracy,val_loss,val_accuracy\n",
      "250/250 [==============================] - 75s 299ms/step - loss: 0.1133 - accuracy: 0.9638 - val_loss: 2.0653 - val_accuracy: 0.5520\n",
      "Epoch 36/50\n",
      "250/250 [==============================] - ETA: 0s - loss: 0.1043 - accuracy: 0.9680WARNING:tensorflow:Early stopping conditioned on metric `val_acc` which is not available. Available metrics are: loss,accuracy,val_loss,val_accuracy\n",
      "250/250 [==============================] - 75s 301ms/step - loss: 0.1043 - accuracy: 0.9680 - val_loss: 2.0399 - val_accuracy: 0.6020\n",
      "Epoch 37/50\n",
      "250/250 [==============================] - ETA: 0s - loss: 0.0917 - accuracy: 0.9682WARNING:tensorflow:Early stopping conditioned on metric `val_acc` which is not available. Available metrics are: loss,accuracy,val_loss,val_accuracy\n",
      "250/250 [==============================] - 75s 299ms/step - loss: 0.0917 - accuracy: 0.9682 - val_loss: 2.3571 - val_accuracy: 0.5920\n",
      "Epoch 38/50\n",
      "250/250 [==============================] - ETA: 0s - loss: 0.0928 - accuracy: 0.9718WARNING:tensorflow:Early stopping conditioned on metric `val_acc` which is not available. Available metrics are: loss,accuracy,val_loss,val_accuracy\n",
      "250/250 [==============================] - 75s 301ms/step - loss: 0.0928 - accuracy: 0.9718 - val_loss: 2.4363 - val_accuracy: 0.5820\n",
      "Epoch 39/50\n",
      "250/250 [==============================] - ETA: 0s - loss: 0.0791 - accuracy: 0.9750WARNING:tensorflow:Early stopping conditioned on metric `val_acc` which is not available. Available metrics are: loss,accuracy,val_loss,val_accuracy\n",
      "250/250 [==============================] - 75s 299ms/step - loss: 0.0791 - accuracy: 0.9750 - val_loss: 2.5881 - val_accuracy: 0.5920\n",
      "Epoch 40/50\n",
      "250/250 [==============================] - ETA: 0s - loss: 0.0802 - accuracy: 0.9745WARNING:tensorflow:Early stopping conditioned on metric `val_acc` which is not available. Available metrics are: loss,accuracy,val_loss,val_accuracy\n",
      "250/250 [==============================] - 75s 299ms/step - loss: 0.0802 - accuracy: 0.9745 - val_loss: 2.0420 - val_accuracy: 0.5740\n",
      "Epoch 41/50\n",
      "250/250 [==============================] - ETA: 0s - loss: 0.0903 - accuracy: 0.9710WARNING:tensorflow:Early stopping conditioned on metric `val_acc` which is not available. Available metrics are: loss,accuracy,val_loss,val_accuracy\n",
      "250/250 [==============================] - 75s 301ms/step - loss: 0.0903 - accuracy: 0.9710 - val_loss: 2.2011 - val_accuracy: 0.6060\n",
      "Epoch 42/50\n",
      "250/250 [==============================] - ETA: 0s - loss: 0.0725 - accuracy: 0.9745WARNING:tensorflow:Early stopping conditioned on metric `val_acc` which is not available. Available metrics are: loss,accuracy,val_loss,val_accuracy\n",
      "250/250 [==============================] - 75s 299ms/step - loss: 0.0725 - accuracy: 0.9745 - val_loss: 2.2121 - val_accuracy: 0.6000\n",
      "Epoch 43/50\n",
      "250/250 [==============================] - ETA: 0s - loss: 0.0527 - accuracy: 0.9833WARNING:tensorflow:Early stopping conditioned on metric `val_acc` which is not available. Available metrics are: loss,accuracy,val_loss,val_accuracy\n",
      "250/250 [==============================] - 75s 300ms/step - loss: 0.0527 - accuracy: 0.9833 - val_loss: 2.4105 - val_accuracy: 0.5740\n",
      "Epoch 44/50\n",
      "250/250 [==============================] - ETA: 0s - loss: 0.0686 - accuracy: 0.9785WARNING:tensorflow:Early stopping conditioned on metric `val_acc` which is not available. Available metrics are: loss,accuracy,val_loss,val_accuracy\n",
      "250/250 [==============================] - 75s 298ms/step - loss: 0.0686 - accuracy: 0.9785 - val_loss: 2.3940 - val_accuracy: 0.5920\n",
      "Epoch 45/50\n",
      "250/250 [==============================] - ETA: 0s - loss: 0.0639 - accuracy: 0.9795WARNING:tensorflow:Early stopping conditioned on metric `val_acc` which is not available. Available metrics are: loss,accuracy,val_loss,val_accuracy\n",
      "250/250 [==============================] - 75s 298ms/step - loss: 0.0639 - accuracy: 0.9795 - val_loss: 2.2770 - val_accuracy: 0.5980\n",
      "Epoch 46/50\n",
      "250/250 [==============================] - ETA: 0s - loss: 0.0585 - accuracy: 0.9790WARNING:tensorflow:Early stopping conditioned on metric `val_acc` which is not available. Available metrics are: loss,accuracy,val_loss,val_accuracy\n",
      "250/250 [==============================] - 75s 300ms/step - loss: 0.0585 - accuracy: 0.9790 - val_loss: 2.6685 - val_accuracy: 0.5940\n",
      "Epoch 47/50\n",
      "250/250 [==============================] - ETA: 0s - loss: 0.0748 - accuracy: 0.9720WARNING:tensorflow:Early stopping conditioned on metric `val_acc` which is not available. Available metrics are: loss,accuracy,val_loss,val_accuracy\n",
      "250/250 [==============================] - 75s 299ms/step - loss: 0.0748 - accuracy: 0.9720 - val_loss: 2.2077 - val_accuracy: 0.6320\n",
      "Epoch 48/50\n",
      "250/250 [==============================] - ETA: 0s - loss: 0.0522 - accuracy: 0.9837WARNING:tensorflow:Early stopping conditioned on metric `val_acc` which is not available. Available metrics are: loss,accuracy,val_loss,val_accuracy\n",
      "250/250 [==============================] - 76s 302ms/step - loss: 0.0522 - accuracy: 0.9837 - val_loss: 2.7100 - val_accuracy: 0.5800\n",
      "Epoch 49/50\n",
      "250/250 [==============================] - ETA: 0s - loss: 0.0585 - accuracy: 0.9815WARNING:tensorflow:Early stopping conditioned on metric `val_acc` which is not available. Available metrics are: loss,accuracy,val_loss,val_accuracy\n",
      "250/250 [==============================] - 76s 304ms/step - loss: 0.0585 - accuracy: 0.9815 - val_loss: 2.5256 - val_accuracy: 0.5840\n",
      "Epoch 50/50\n",
      "250/250 [==============================] - ETA: 0s - loss: 0.0540 - accuracy: 0.9833WARNING:tensorflow:Early stopping conditioned on metric `val_acc` which is not available. Available metrics are: loss,accuracy,val_loss,val_accuracy\n",
      "250/250 [==============================] - 76s 302ms/step - loss: 0.0540 - accuracy: 0.9833 - val_loss: 2.3326 - val_accuracy: 0.5840\n"
     ]
    }
   ],
   "source": [
    "# Fit the model\n",
    "from PIL import ImageFile\n",
    "ImageFile.LOAD_TRUNCATED_IMAGES = True\n",
    "\n",
    "history = model.fit(\n",
    "                    train_data,\n",
    "                    validation_data = (X_val, y_val) ,              \n",
    "                    epochs = 50,\n",
    "                    callbacks=[es,chkpt]\n",
    "                    )"
   ]
  },
  {
   "cell_type": "code",
   "execution_count": 2,
   "metadata": {},
   "outputs": [
    {
     "ename": "SyntaxError",
     "evalue": "invalid syntax (Temp/ipykernel_3472/3855620232.py, line 1)",
     "output_type": "error",
     "traceback": [
      "\u001b[1;36m  File \u001b[1;32m\"C:\\Users\\RANASA~1\\AppData\\Local\\Temp/ipykernel_3472/3855620232.py\"\u001b[1;36m, line \u001b[1;32m1\u001b[0m\n\u001b[1;33m    Visualize Accuracy and Loss\u001b[0m\n\u001b[1;37m              ^\u001b[0m\n\u001b[1;31mSyntaxError\u001b[0m\u001b[1;31m:\u001b[0m invalid syntax\n"
     ]
    }
   ],
   "source": [
    "Visualize Accuracy and Loss\n",
    "-\n",
    "- importing matplotlib and seaborn libraries for ploting graphs\n",
    "- Training accuracy and validation accuracy graphs\n",
    "- Training loss and validation loss graphs"
   ]
  },
  {
   "cell_type": "code",
   "execution_count": 32,
   "metadata": {
    "colab": {
     "base_uri": "https://localhost:8080/",
     "height": 573
    },
    "id": "0nCvZsz8OTQE",
    "outputId": "9ef1679b-a7cc-4166-8bf4-fc4518f93a76"
   },
   "outputs": [
    {
     "data": {
      "image/png": "[encoded data removed]",
      "text/plain": [
       "<Figure size 432x288 with 1 Axes>"
      ]
     },
     "metadata": {
      "needs_background": "light"
     },
     "output_type": "display_data"
    },
    {
     "data": {
      "image/png": "[encoded data removed]",
      "text/plain": [
       "<Figure size 432x288 with 1 Axes>"
      ]
     },
     "metadata": {
      "needs_background": "light"
     },
     "output_type": "display_data"
    }
   ],
   "source": [
    "\n",
    "import matplotlib.pyplot as plt\n",
    "import seaborn as sns\n",
    "\n",
    "plt.plot(history.history['accuracy'], label=\"Training accuracy\")\n",
    "plt.plot(history.history['val_accuracy'], label=\"Validation accuracy\")\n",
    "plt.title('Training and validation accuracy')\n",
    "plt.xlabel('Epochs')\n",
    "plt.ylabel('Accuracy')\n",
    "plt.legend()\n",
    "plt.show()\n",
    "# Plot using Seaborn\n",
    "\n",
    "plt.plot(history.history['accuracy'], label=\"Training loss\")\n",
    "plt.plot(history.history['val_accuracy'], label=\"Validation loss\")\n",
    "#my_plot = sns.lineplot(data=history[[\"loss\",\"validation_loss\"]])\n",
    "plt.xlabel('Epochs')\n",
    "plt.ylabel('Loss')\n",
    "#plt.legend(labels=[\"Training\", \"Validation\"])\n",
    "plt.title('Training and Validation Loss')\n",
    "plt.show()"
   ]
  },
  {
   "cell_type": "code",
   "execution_count": null,
   "metadata": {},
   "outputs": [],
   "source": []
  },
  {
   "cell_type": "code",
   "execution_count": 33,
   "metadata": {
    "id": "3_Ls_8VGQdRh"
   },
   "outputs": [],
   "source": [
    "model.save(\"Face_shape.h5\")"
   ]
  },
  {
   "cell_type": "markdown",
   "metadata": {},
   "source": [
    "Testing the model on unseen data\n",
    "-\n",
    "- Evaluate method used for testing\n",
    "- putting the unseen data"
   ]
  },
  {
   "cell_type": "code",
   "execution_count": 44,
   "metadata": {
    "colab": {
     "base_uri": "https://localhost:8080/"
    },
    "id": "9_-LUWejoU7z",
    "outputId": "72cf1148-291e-4da3-a19a-a7cd41be18a0"
   },
   "outputs": [
    {
     "name": "stdout",
     "output_type": "stream",
     "text": [
      "16/16 [==============================] - 2s 99ms/step - loss: 1.8275 - accuracy: 0.6120\n"
     ]
    },
    {
     "data": {
      "text/plain": [
       "[1.8274928331375122, 0.6119999885559082]"
      ]
     },
     "execution_count": 44,
     "metadata": {},
     "output_type": "execute_result"
    }
   ],
   "source": [
    "model.evaluate(X_test,y_test)"
   ]
  },
  {
   "cell_type": "code",
   "execution_count": 33,
   "metadata": {
    "id": "Us6QSbINQdo9"
   },
   "outputs": [],
   "source": []
  },
  {
   "cell_type": "code",
   "execution_count": 34,
   "metadata": {
    "colab": {
     "base_uri": "https://localhost:8080/"
    },
    "id": "PLHXL6IzPwtM",
    "outputId": "88c5e1f9-7a34-4691-ff26-b8a5161910be"
   },
   "outputs": [
    {
     "data": {
      "text/plain": [
       "(500, 5)"
      ]
     },
     "execution_count": 34,
     "metadata": {},
     "output_type": "execute_result"
    }
   ],
   "source": [
    "import numpy as np\n",
    "import pandas as pd\n",
    "y_test.shape"
   ]
  },
  {
   "cell_type": "code",
   "execution_count": 35,
   "metadata": {
    "colab": {
     "base_uri": "https://localhost:8080/"
    },
    "id": "A5kC5Uz8PxFX",
    "outputId": "bcec4342-1d86-4fe8-83d6-267ddb01630c"
   },
   "outputs": [
    {
     "data": {
      "text/plain": [
       "(500, 5)"
      ]
     },
     "execution_count": 35,
     "metadata": {},
     "output_type": "execute_result"
    }
   ],
   "source": [
    "y_pred = model.predict(X_test, verbose=0)\n",
    "y_pred.shape"
   ]
  },
  {
   "cell_type": "code",
   "execution_count": null,
   "metadata": {},
   "outputs": [],
   "source": []
  },
  {
   "cell_type": "markdown",
   "metadata": {},
   "source": [
    "Confusion matrix\n",
    "-\n",
    "- import confusion matrix from sklearn\n",
    "- predict the model \n",
    "- plot the confusion matrix graphs"
   ]
  },
  {
   "cell_type": "code",
   "execution_count": 36,
   "metadata": {
    "id": "zdH9ttayQGeR"
   },
   "outputs": [],
   "source": [
    "from sklearn.metrics import confusion_matrix\n",
    "c_matrix = confusion_matrix(np.argmax(y_test, axis=1), np.argmax(y_pred, axis=1))"
   ]
  },
  {
   "cell_type": "code",
   "execution_count": 37,
   "metadata": {
    "id": "GJFqdhRRQJ--"
   },
   "outputs": [],
   "source": [
    "import seaborn as sns\n",
    "def confusion_matrix(confusion_matrix, class_names, figsize = (10,7), fontsize=14):\n",
    "    \"\"\"Prints a confusion matrix, as returned by sklearn.metrics.confusion_matrix, as a heatmap.\n",
    "    \n",
    "    Arguments\n",
    "    ---------\n",
    "    confusion_matrix: numpy.ndarray\n",
    "        The numpy.ndarray object returned from a call to sklearn.metrics.confusion_matrix. \n",
    "        Similarly constructed ndarrays can also be used.\n",
    "    class_names: list\n",
    "        An ordered list of class names, in the order they index the given confusion matrix.\n",
    "    figsize: tuple\n",
    "        A 2-long tuple, the first value determining the horizontal size of the ouputted figure,\n",
    "        the second determining the vertical size. Defaults to (10,7).\n",
    "    fontsize: int\n",
    "        Font size for axes labels. Defaults to 14.\n",
    "    \"\"\"\n",
    "    df_cm = pd.DataFrame(\n",
    "        confusion_matrix, index=class_names, columns=class_names, \n",
    "    )\n",
    "    fig = plt.figure(figsize=figsize)\n",
    "    try:\n",
    "        heatmap = sns.heatmap(df_cm, annot=True, fmt=\"d\")\n",
    "    except ValueError:\n",
    "        raise ValueError(\"Confusion matrix values must be integers.\")\n",
    "    heatmap.yaxis.set_ticklabels(heatmap.yaxis.get_ticklabels(), rotation=0, ha='right', fontsize=fontsize)\n",
    "    heatmap.xaxis.set_ticklabels(heatmap.xaxis.get_ticklabels(), rotation=45, ha='right', fontsize=fontsize)\n",
    "    plt.ylabel('True label')\n",
    "    plt.xlabel('Predicted label')"
   ]
  },
  {
   "cell_type": "code",
   "execution_count": 42,
   "metadata": {
    "colab": {
     "base_uri": "https://localhost:8080/",
     "height": 478
    },
    "id": "iUIuKYvrQZg-",
    "outputId": "ba82148b-0ee2-4a9d-c0c8-b16a005dbdbc"
   },
   "outputs": [
    {
     "data": {
      "image/png": "[encoded data removed]",
      "text/plain": [
       "<Figure size 1080x504 with 2 Axes>"
      ]
     },
     "metadata": {
      "needs_background": "light"
     },
     "output_type": "display_data"
    }
   ],
   "source": [
    "class_names= batches.class_indices.keys()\n",
    "confusion_matrix(c_matrix, class_names, figsize = (15,7), fontsize=14)"
   ]
  },
  {
   "cell_type": "code",
   "execution_count": null,
   "metadata": {},
   "outputs": [],
   "source": []
  },
  {
   "cell_type": "markdown",
   "metadata": {},
   "source": [
    "Creating Classification Report\n",
    "- \n",
    "- import classification report from sklearn\n",
    "- predicting the value\n",
    "-  classification report on CNN model"
   ]
  },
  {
   "cell_type": "code",
   "execution_count": 41,
   "metadata": {
    "colab": {
     "base_uri": "https://localhost:8080/"
    },
    "id": "ro7B3qpVQRly",
    "outputId": "2895c084-5b63-4e37-fc7c-7622a589a9f9"
   },
   "outputs": [
    {
     "name": "stdout",
     "output_type": "stream",
     "text": [
      "              precision    recall  f1-score   support\n",
      "\n",
      "           0       0.72      0.43      0.54       102\n",
      "           1       0.66      0.69      0.67       109\n",
      "           2       0.44      0.49      0.47        98\n",
      "           3       0.65      0.70      0.67       103\n",
      "           4       0.63      0.76      0.69        88\n",
      "\n",
      "    accuracy                           0.61       500\n",
      "   macro avg       0.62      0.61      0.61       500\n",
      "weighted avg       0.62      0.61      0.61       500\n",
      "\n"
     ]
    }
   ],
   "source": [
    "# From categorical outputs to discrete values\n",
    "\n",
    "y_pred_ = [np.argmax(y) for y in y_pred]\n",
    "y_test_ = [np.argmax(y) for y in y_test]\n",
    "\n",
    "from sklearn.metrics import classification_report\n",
    "print(classification_report(y_test_, y_pred_))"
   ]
  },
  {
   "cell_type": "code",
   "execution_count": null,
   "metadata": {
    "id": "SewWpYvLQKjN"
   },
   "outputs": [],
   "source": []
  },
  {
   "cell_type": "markdown",
   "metadata": {
    "id": "7F7PLSNdPxLd"
   },
   "source": [
    "The End\n",
    "-"
   ]
  },
  {
   "cell_type": "code",
   "execution_count": null,
   "metadata": {},
   "outputs": [],
   "source": []
  }
 ],
 "metadata": {
  "accelerator": "GPU",
  "colab": {
   "name": "Face_Shape_Classification_using_CNN.ipynb",
   "provenance": []
  },
  "gpuClass": "standard",
  "kernelspec": {
   "display_name": "Python 3 (ipykernel)",
   "language": "python",
   "name": "python3"
  },
  "language_info": {
   "codemirror_mode": {
    "name": "ipython",
    "version": 3
   },
   "file_extension": ".py",
   "mimetype": "text/x-python",
   "name": "python",
   "nbconvert_exporter": "python",
   "pygments_lexer": "ipython3",
   "version": "3.9.7"
  }
 },
 "nbformat": 4,
 "nbformat_minor": 1
}

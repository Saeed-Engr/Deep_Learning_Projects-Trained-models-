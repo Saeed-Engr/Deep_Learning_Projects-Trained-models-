{
  "nbformat": 4,
  "nbformat_minor": 0,
  "metadata": {
    "colab": {
      "name": "soil_analysis_using_MobileNet.ipynb",
      "provenance": [],
      "collapsed_sections": []
    },
    "kernelspec": {
      "name": "python3",
      "display_name": "Python 3"
    },
    "language_info": {
      "name": "python"
    },
    "accelerator": "GPU",
    "gpuClass": "standard"
  },
  "cells": [
    {
      "cell_type": "code",
      "execution_count": 7,
      "metadata": {
        "id": "xVKGB0Vcj3bu"
      },
      "outputs": [],
      "source": [
        "import tensorflow as tf"
      ]
    },
    {
      "cell_type": "code",
      "source": [
        "#!unzip \"/content/drive/MyDrive/water analysis/water resize data.zip\" -d \"/content/drive/MyDrive/water analysis/\""
      ],
      "metadata": {
        "id": "NkziM-fgmLre"
      },
      "execution_count": 8,
      "outputs": []
    },
    {
      "cell_type": "code",
      "source": [
        "!pip install split-folders"
      ],
      "metadata": {
        "colab": {
          "base_uri": "https://localhost:8080/"
        },
        "id": "9riRSOmlmNgE",
        "outputId": "fc86b1a3-8693-42f1-a3ef-d025297dd204"
      },
      "execution_count": 9,
      "outputs": [
        {
          "output_type": "stream",
          "name": "stdout",
          "text": [
            "Looking in indexes: https://pypi.org/simple, https://us-python.pkg.dev/colab-wheels/public/simple/\n",
            "Requirement already satisfied: split-folders in /usr/local/lib/python3.7/dist-packages (0.5.1)\n"
          ]
        }
      ]
    },
    {
      "cell_type": "code",
      "source": [
        ""
      ],
      "metadata": {
        "id": "azUEzXX1n2l5"
      },
      "execution_count": 9,
      "outputs": []
    },
    {
      "cell_type": "code",
      "source": [
        "import os \n",
        "os.getcwdb()"
      ],
      "metadata": {
        "colab": {
          "base_uri": "https://localhost:8080/"
        },
        "id": "5Cj72rhPn2io",
        "outputId": "af10db0f-c37e-4e44-803e-61b3fb612846"
      },
      "execution_count": 10,
      "outputs": [
        {
          "output_type": "execute_result",
          "data": {
            "text/plain": [
              "b'/content'"
            ]
          },
          "metadata": {},
          "execution_count": 10
        }
      ]
    },
    {
      "cell_type": "code",
      "source": [
        "%cd /content/drive/MyDrive/soil analysis"
      ],
      "metadata": {
        "colab": {
          "base_uri": "https://localhost:8080/"
        },
        "id": "UYsekR1-oB6I",
        "outputId": "e6f9a589-0799-41c1-c5cb-d261c734b867"
      },
      "execution_count": 12,
      "outputs": [
        {
          "output_type": "stream",
          "name": "stdout",
          "text": [
            "/content/drive/MyDrive/soil analysis\n"
          ]
        }
      ]
    },
    {
      "cell_type": "code",
      "source": [
        ""
      ],
      "metadata": {
        "id": "94uLvOpFoCFu"
      },
      "execution_count": 13,
      "outputs": []
    },
    {
      "cell_type": "code",
      "source": [
        "import splitfolders\n",
        "\n",
        "splitfolders.ratio('/content/drive/MyDrive/soil analysis', output=\"split data\", seed=1337, ratio=(.7, 0.3,)) \n"
      ],
      "metadata": {
        "colab": {
          "base_uri": "https://localhost:8080/"
        },
        "id": "3k2XLabsndcs",
        "outputId": "cda0107b-0dc7-4308-89c1-477c8795f28b"
      },
      "execution_count": 14,
      "outputs": [
        {
          "output_type": "stream",
          "name": "stderr",
          "text": [
            "Copying files: 2454 files [00:54, 45.28 files/s]\n"
          ]
        }
      ]
    },
    {
      "cell_type": "code",
      "source": [
        ""
      ],
      "metadata": {
        "id": "4M-fOyQyndZm"
      },
      "execution_count": 14,
      "outputs": []
    },
    {
      "cell_type": "code",
      "source": [
        ""
      ],
      "metadata": {
        "id": "C662VB6Osuny"
      },
      "execution_count": 14,
      "outputs": []
    },
    {
      "cell_type": "code",
      "source": [
        "\n",
        "import os\n",
        "import glob\n",
        "import h5py\n",
        "from PIL import Image\n",
        "from keras.models import Sequential, Model\n",
        "from keras.applications.vgg16 import VGG16, preprocess_input\n",
        "from keras.preprocessing.image import ImageDataGenerator,load_img, img_to_array\n",
        "from keras.models import Sequential\n",
        "from keras.layers import Conv2D, MaxPooling2D, Dense, Dropout, Input, Flatten, SeparableConv2D\n",
        "from keras.layers import GlobalMaxPooling2D\n",
        "from tensorflow.keras.layers import BatchNormalization\n",
        "from keras.models import Model\n",
        "from tensorflow.keras.optimizers import Adam , SGD, RMSprop\n",
        "from keras.callbacks import ModelCheckpoint, Callback, EarlyStopping\n",
        "from tensorflow.keras.utils import to_categorical\n",
        "from keras import backend as K\n",
        "import numpy as np"
      ],
      "metadata": {
        "id": "F5LlJMxNj_A6"
      },
      "execution_count": 122,
      "outputs": []
    },
    {
      "cell_type": "code",
      "source": [
        ""
      ],
      "metadata": {
        "id": "PnLct_aKm-a1"
      },
      "execution_count": 122,
      "outputs": []
    },
    {
      "cell_type": "code",
      "source": [
        "\n",
        "\n",
        "\n",
        "from tensorflow.keras.preprocessing.image import ImageDataGenerator\n",
        "train_datagen = ImageDataGenerator( preprocessing_function= preprocess_input,\n",
        "                                   horizontal_flip = True,\n",
        "                                     rescale=1./255 )\n",
        "\n",
        "batch_size = 16\n",
        "validation_datagen = ImageDataGenerator(preprocessing_function= preprocess_input,\n",
        "                                        horizontal_flip = True,\n",
        "                                        rescale=1./255)\n",
        "\n",
        "train_data = train_datagen.flow_from_directory(\n",
        "                    '/content/drive/MyDrive/soil analysis/split data/train',\n",
        "                    target_size=(224, 224),batch_size= batch_size)\n",
        "\n",
        "batches = validation_datagen.flow_from_directory(\n",
        "                    '/content/drive/MyDrive/soil analysis/split data/val',\n",
        "                    target_size=(224,224), batch_size= 738)\n"
      ],
      "metadata": {
        "colab": {
          "base_uri": "https://localhost:8080/"
        },
        "id": "bt6EGrBXnBjV",
        "outputId": "19b1f999-baec-45b1-eae1-2e1be23c9b72"
      },
      "execution_count": 142,
      "outputs": [
        {
          "output_type": "stream",
          "name": "stdout",
          "text": [
            "Found 1716 images belonging to 4 classes.\n",
            "Found 738 images belonging to 4 classes.\n"
          ]
        }
      ]
    },
    {
      "cell_type": "code",
      "source": [
        "from PIL import ImageFile\n",
        "ImageFile.LOAD_TRUNCATED_IMAGES = True\n",
        "\n",
        "imgs, labels = next(batches)\n",
        "\n",
        "batches.class_indices"
      ],
      "metadata": {
        "colab": {
          "base_uri": "https://localhost:8080/"
        },
        "id": "oTCpgSIOo2kx",
        "outputId": "11312b8c-7093-4559-c614-5da2ff801174"
      },
      "execution_count": 143,
      "outputs": [
        {
          "output_type": "execute_result",
          "data": {
            "text/plain": [
              "{'Mary soil': 0, 'chalky': 1, 'sand': 2, 'silt': 3}"
            ]
          },
          "metadata": {},
          "execution_count": 143
        }
      ]
    },
    {
      "cell_type": "code",
      "source": [
        "categories = {\n",
        "'Mary soil': 0, 'chalky': 1, 'sand': 2, 'silt': 3\n",
        "}\n",
        "\n",
        "categories"
      ],
      "metadata": {
        "colab": {
          "base_uri": "https://localhost:8080/"
        },
        "id": "6LMYjzMIqVFc",
        "outputId": "d896112d-a178-48ba-8420-d0ef4335d24c"
      },
      "execution_count": 144,
      "outputs": [
        {
          "output_type": "execute_result",
          "data": {
            "text/plain": [
              "{'Mary soil': 0, 'chalky': 1, 'sand': 2, 'silt': 3}"
            ]
          },
          "metadata": {},
          "execution_count": 144
        }
      ]
    },
    {
      "cell_type": "code",
      "source": [
        "from sklearn.model_selection import train_test_split\n",
        "# Train, validation and test split\n",
        "\n",
        "X_val, X_test, y_val, y_test = train_test_split(imgs,labels, test_size=0.5, random_state=7)\n",
        "\n"
      ],
      "metadata": {
        "id": "x_h6EO9Hq_GU"
      },
      "execution_count": 145,
      "outputs": []
    },
    {
      "cell_type": "code",
      "source": [
        "print(\"*-*-*-*-*-*\")\n",
        "print(\"Train\")\n",
        "print(X_val.shape)\n",
        "print(y_val.shape)\n",
        "\n",
        "print(\"*-*-*-*-*-*\")\n",
        "print(\"Test\")\n",
        "print(X_test.shape)\n",
        "print(y_test.shape)"
      ],
      "metadata": {
        "colab": {
          "base_uri": "https://localhost:8080/"
        },
        "id": "atNGsqRarDcr",
        "outputId": "1c72491f-1c6f-44ec-e7ce-494c97f0f3df"
      },
      "execution_count": 146,
      "outputs": [
        {
          "output_type": "stream",
          "name": "stdout",
          "text": [
            "*-*-*-*-*-*\n",
            "Train\n",
            "(369, 224, 224, 3)\n",
            "(369, 4)\n",
            "*-*-*-*-*-*\n",
            "Test\n",
            "(369, 224, 224, 3)\n",
            "(369, 4)\n"
          ]
        }
      ]
    },
    {
      "cell_type": "code",
      "source": [
        "from tensorflow.keras.applications import MobileNet\n",
        "conv_base = MobileNet(weights='imagenet',\n",
        "include_top=False,\n",
        "input_shape=(224, 224, 3))"
      ],
      "metadata": {
        "id": "y9lxhAohrF1k",
        "colab": {
          "base_uri": "https://localhost:8080/"
        },
        "outputId": "f0e4ea5e-4d6c-440a-c8d5-d25db7cf20b0"
      },
      "execution_count": 147,
      "outputs": [
        {
          "output_type": "stream",
          "name": "stdout",
          "text": [
            "Downloading data from https://storage.googleapis.com/tensorflow/keras-applications/mobilenet/mobilenet_1_0_224_tf_no_top.h5\n",
            "17227776/17225924 [==============================] - 0s 0us/step\n",
            "17235968/17225924 [==============================] - 0s 0us/step\n"
          ]
        }
      ]
    },
    {
      "cell_type": "code",
      "source": [
        "from keras import models\n",
        "from keras import layers\n",
        "model = models.Sequential()\n",
        "model.add(conv_base)\n",
        "model.add(Dropout(0.25))\n",
        "\n",
        "model.add(layers.Flatten())\n",
        "model.add(layers.Dense(512, activation='relu'))\n",
        "model.add(layers.Dense(256, activation='relu'))\n",
        "model.add(layers.Dense(128, activation='relu'))\n",
        "model.add(Dropout(0.25))\n",
        "model.add(layers.Dense(4, activation='softmax'))"
      ],
      "metadata": {
        "id": "qkyh8CICrVA5"
      },
      "execution_count": 148,
      "outputs": []
    },
    {
      "cell_type": "code",
      "source": [
        "model.summary()"
      ],
      "metadata": {
        "colab": {
          "base_uri": "https://localhost:8080/"
        },
        "id": "37kbxZVHrbiy",
        "outputId": "f4514a4a-4ec8-4a36-e563-4184dbe36fd2"
      },
      "execution_count": 149,
      "outputs": [
        {
          "output_type": "stream",
          "name": "stdout",
          "text": [
            "Model: \"sequential_9\"\n",
            "_________________________________________________________________\n",
            " Layer (type)                Output Shape              Param #   \n",
            "=================================================================\n",
            " mobilenet_1.00_224 (Functio  (None, 7, 7, 1024)       3228864   \n",
            " nal)                                                            \n",
            "                                                                 \n",
            " dropout_18 (Dropout)        (None, 7, 7, 1024)        0         \n",
            "                                                                 \n",
            " flatten_9 (Flatten)         (None, 50176)             0         \n",
            "                                                                 \n",
            " dense_36 (Dense)            (None, 512)               25690624  \n",
            "                                                                 \n",
            " dense_37 (Dense)            (None, 256)               131328    \n",
            "                                                                 \n",
            " dense_38 (Dense)            (None, 128)               32896     \n",
            "                                                                 \n",
            " dropout_19 (Dropout)        (None, 128)               0         \n",
            "                                                                 \n",
            " dense_39 (Dense)            (None, 4)                 516       \n",
            "                                                                 \n",
            "=================================================================\n",
            "Total params: 29,084,228\n",
            "Trainable params: 29,062,340\n",
            "Non-trainable params: 21,888\n",
            "_________________________________________________________________\n"
          ]
        }
      ]
    },
    {
      "cell_type": "code",
      "source": [
        "model.compile(optimizer=\"rmsprop\",\n",
        " loss=\"categorical_crossentropy\",\n",
        " metrics=[\"accuracy\"])"
      ],
      "metadata": {
        "id": "40tKnK5Trg68"
      },
      "execution_count": 150,
      "outputs": []
    },
    {
      "cell_type": "code",
      "source": [
        "history = model.fit(\n",
        "                    train_data,\n",
        "                    validation_data = (X_val, y_val),\n",
        "                    epochs=30)"
      ],
      "metadata": {
        "colab": {
          "base_uri": "https://localhost:8080/"
        },
        "id": "Icf14IqjrjwI",
        "outputId": "83318795-53dc-4c2b-aba3-adbe00380800"
      },
      "execution_count": 151,
      "outputs": [
        {
          "output_type": "stream",
          "name": "stdout",
          "text": [
            "Epoch 1/30\n",
            "108/108 [==============================] - 39s 319ms/step - loss: 3.5791 - accuracy: 0.5105 - val_loss: 6.2028 - val_accuracy: 0.3442\n",
            "Epoch 2/30\n",
            "108/108 [==============================] - 34s 312ms/step - loss: 0.9374 - accuracy: 0.6981 - val_loss: 5.8840 - val_accuracy: 0.5718\n",
            "Epoch 3/30\n",
            "108/108 [==============================] - 33s 309ms/step - loss: 0.7869 - accuracy: 0.8030 - val_loss: 3.6454 - val_accuracy: 0.4553\n",
            "Epoch 4/30\n",
            "108/108 [==============================] - 34s 312ms/step - loss: 0.5106 - accuracy: 0.8753 - val_loss: 2.2485 - val_accuracy: 0.7019\n",
            "Epoch 5/30\n",
            "108/108 [==============================] - 34s 312ms/step - loss: 0.5439 - accuracy: 0.8846 - val_loss: 2.6168 - val_accuracy: 0.7995\n",
            "Epoch 6/30\n",
            "108/108 [==============================] - 34s 310ms/step - loss: 0.4138 - accuracy: 0.9190 - val_loss: 1.6072 - val_accuracy: 0.8103\n",
            "Epoch 7/30\n",
            "108/108 [==============================] - 34s 316ms/step - loss: 0.3321 - accuracy: 0.9260 - val_loss: 3.3409 - val_accuracy: 0.6965\n",
            "Epoch 8/30\n",
            "108/108 [==============================] - 34s 312ms/step - loss: 0.3307 - accuracy: 0.9312 - val_loss: 1.4422 - val_accuracy: 0.8428\n",
            "Epoch 9/30\n",
            "108/108 [==============================] - 34s 310ms/step - loss: 0.3838 - accuracy: 0.9272 - val_loss: 1.7561 - val_accuracy: 0.8347\n",
            "Epoch 10/30\n",
            "108/108 [==============================] - 34s 311ms/step - loss: 0.3086 - accuracy: 0.9388 - val_loss: 0.6391 - val_accuracy: 0.9024\n",
            "Epoch 11/30\n",
            "108/108 [==============================] - 34s 314ms/step - loss: 0.3072 - accuracy: 0.9493 - val_loss: 1.2910 - val_accuracy: 0.8699\n",
            "Epoch 12/30\n",
            "108/108 [==============================] - 34s 314ms/step - loss: 0.1613 - accuracy: 0.9615 - val_loss: 0.6782 - val_accuracy: 0.9675\n",
            "Epoch 13/30\n",
            "108/108 [==============================] - 34s 312ms/step - loss: 0.2677 - accuracy: 0.9557 - val_loss: 0.5789 - val_accuracy: 0.9593\n",
            "Epoch 14/30\n",
            "108/108 [==============================] - 34s 315ms/step - loss: 0.2880 - accuracy: 0.9598 - val_loss: 0.9898 - val_accuracy: 0.9295\n",
            "Epoch 15/30\n",
            "108/108 [==============================] - 34s 309ms/step - loss: 0.2366 - accuracy: 0.9656 - val_loss: 0.7441 - val_accuracy: 0.8970\n",
            "Epoch 16/30\n",
            "108/108 [==============================] - 34s 310ms/step - loss: 0.1967 - accuracy: 0.9662 - val_loss: 0.4472 - val_accuracy: 0.9702\n",
            "Epoch 17/30\n",
            "108/108 [==============================] - 34s 313ms/step - loss: 0.2613 - accuracy: 0.9540 - val_loss: 0.3213 - val_accuracy: 0.9539\n",
            "Epoch 18/30\n",
            "108/108 [==============================] - 34s 309ms/step - loss: 0.2504 - accuracy: 0.9697 - val_loss: 0.5795 - val_accuracy: 0.9837\n",
            "Epoch 19/30\n",
            "108/108 [==============================] - 34s 312ms/step - loss: 0.1746 - accuracy: 0.9773 - val_loss: 0.6371 - val_accuracy: 0.9621\n",
            "Epoch 20/30\n",
            "108/108 [==============================] - 34s 310ms/step - loss: 0.1910 - accuracy: 0.9639 - val_loss: 0.7978 - val_accuracy: 0.9783\n",
            "Epoch 21/30\n",
            "108/108 [==============================] - 34s 312ms/step - loss: 0.1379 - accuracy: 0.9779 - val_loss: 4.8493 - val_accuracy: 0.7561\n",
            "Epoch 22/30\n",
            "108/108 [==============================] - 33s 309ms/step - loss: 0.1675 - accuracy: 0.9744 - val_loss: 1.2704 - val_accuracy: 0.9566\n",
            "Epoch 23/30\n",
            "108/108 [==============================] - 34s 312ms/step - loss: 0.1422 - accuracy: 0.9790 - val_loss: 1.3586 - val_accuracy: 0.9593\n",
            "Epoch 24/30\n",
            "108/108 [==============================] - 34s 311ms/step - loss: 0.2651 - accuracy: 0.9767 - val_loss: 1.3430 - val_accuracy: 0.8997\n",
            "Epoch 25/30\n",
            "108/108 [==============================] - 34s 310ms/step - loss: 0.1566 - accuracy: 0.9755 - val_loss: 0.6408 - val_accuracy: 0.9458\n",
            "Epoch 26/30\n",
            "108/108 [==============================] - 34s 313ms/step - loss: 0.2128 - accuracy: 0.9685 - val_loss: 0.4135 - val_accuracy: 0.9675\n",
            "Epoch 27/30\n",
            "108/108 [==============================] - 34s 310ms/step - loss: 0.1840 - accuracy: 0.9825 - val_loss: 0.9839 - val_accuracy: 0.9702\n",
            "Epoch 28/30\n",
            "108/108 [==============================] - 34s 311ms/step - loss: 0.1785 - accuracy: 0.9720 - val_loss: 1.0449 - val_accuracy: 0.9377\n",
            "Epoch 29/30\n",
            "108/108 [==============================] - 33s 309ms/step - loss: 0.1199 - accuracy: 0.9808 - val_loss: 0.5060 - val_accuracy: 0.9729\n",
            "Epoch 30/30\n",
            "108/108 [==============================] - 34s 311ms/step - loss: 0.1042 - accuracy: 0.9831 - val_loss: 0.4133 - val_accuracy: 0.9621\n"
          ]
        }
      ]
    },
    {
      "cell_type": "code",
      "source": [
        "\n",
        "import matplotlib.pyplot as plt\n",
        "import seaborn as sns\n",
        "\n",
        "plt.plot(history.history['accuracy'], label=\"Training accuracy\")\n",
        "plt.plot(history.history['val_accuracy'], label=\"Validation accuracy\")\n",
        "plt.title('Training and validation accuracy')\n",
        "plt.xlabel('Epochs')\n",
        "plt.ylabel('Accuracy')\n",
        "plt.legend()\n",
        "plt.show()\n",
        "# Plot using Seaborn\n",
        "\n",
        "plt.plot(history.history['accuracy'], label=\"Training loss\")\n",
        "plt.plot(history.history['val_accuracy'], label=\"Validation loss\")\n",
        "#my_plot = sns.lineplot(data=history[[\"loss\",\"validation_loss\"]])\n",
        "plt.xlabel('Epochs')\n",
        "plt.ylabel('Loss')\n",
        "#plt.legend(labels=[\"Training\", \"Validation\"])\n",
        "plt.title('Training and Validation Loss')\n",
        "plt.show()"
      ],
      "metadata": {
        "colab": {
          "base_uri": "https://localhost:8080/",
          "height": 573
        },
        "id": "AwrUPSufrnfo",
        "outputId": "ea78853f-b555-4a70-fbbe-2e3480207df9"
      },
      "execution_count": 155,
      "outputs": [
        {
          "output_type": "display_data",
          "data": {
            "text/plain": [
              "<Figure size 432x288 with 1 Axes>"
            ],
            "image/png": "[encoded data removed]"
          },
          "metadata": {
            "needs_background": "light"
          }
        },
        {
          "output_type": "display_data",
          "data": {
            "text/plain": [
              "<Figure size 432x288 with 1 Axes>"
            ],
            "image/png": "[encoded data removed]"
          },
          "metadata": {
            "needs_background": "light"
          }
        }
      ]
    },
    {
      "cell_type": "code",
      "source": [
        "model.evaluate(X_test, y_test)"
      ],
      "metadata": {
        "colab": {
          "base_uri": "https://localhost:8080/"
        },
        "id": "jvQG4hqMr3W1",
        "outputId": "140dc5c7-cff5-47ce-c03d-4156d2f5a79f"
      },
      "execution_count": 156,
      "outputs": [
        {
          "output_type": "stream",
          "name": "stdout",
          "text": [
            "12/12 [==============================] - 1s 43ms/step - loss: 0.3314 - accuracy: 0.9485\n"
          ]
        },
        {
          "output_type": "execute_result",
          "data": {
            "text/plain": [
              "[0.33139342069625854, 0.9485095143318176]"
            ]
          },
          "metadata": {},
          "execution_count": 156
        }
      ]
    },
    {
      "cell_type": "code",
      "source": [
        "import numpy as np\n",
        "import pandas as pd\n",
        "y_test.shape\n"
      ],
      "metadata": {
        "colab": {
          "base_uri": "https://localhost:8080/"
        },
        "id": "JL67G2TPr7Nb",
        "outputId": "b8c8f5e7-3c9a-4328-e082-780c9656bd28"
      },
      "execution_count": 157,
      "outputs": [
        {
          "output_type": "execute_result",
          "data": {
            "text/plain": [
              "(369, 4)"
            ]
          },
          "metadata": {},
          "execution_count": 157
        }
      ]
    },
    {
      "cell_type": "code",
      "source": [
        "y_pred = model.predict(X_test, verbose=0)\n",
        "\n"
      ],
      "metadata": {
        "id": "2H3dl4ynr-k_"
      },
      "execution_count": 158,
      "outputs": []
    },
    {
      "cell_type": "code",
      "source": [
        "from sklearn.metrics import confusion_matrix\n",
        "c_matrix = confusion_matrix(np.argmax(y_test, axis=1), np.argmax(y_pred, axis=1))\n",
        "\n",
        "import seaborn as sns\n",
        "def confusion_matrix(confusion_matrix, class_names, figsize = (10,7), fontsize=14):\n",
        "    \"\"\"Prints a confusion matrix, as returned by sklearn.metrics.confusion_matrix, as a heatmap.\n",
        "    \n",
        "    Arguments\n",
        "    ---------\n",
        "    confusion_matrix: numpy.ndarray\n",
        "        The numpy.ndarray object returned from a call to sklearn.metrics.confusion_matrix. \n",
        "        Similarly constructed ndarrays can also be used.\n",
        "    class_names: list\n",
        "        An ordered list of class names, in the order they index the given confusion matrix.\n",
        "    figsize: tuple\n",
        "        A 2-long tuple, the first value determining the horizontal size of the ouputted figure,\n",
        "        the second determining the vertical size. Defaults to (10,7).\n",
        "    fontsize: int\n",
        "        Font size for axes labels. Defaults to 14.\n",
        "    \"\"\"\n",
        "    df_cm = pd.DataFrame(\n",
        "        confusion_matrix, index=class_names, columns=class_names, \n",
        "    )\n",
        "    fig = plt.figure(figsize=figsize)\n",
        "    try:\n",
        "        heatmap = sns.heatmap(df_cm, annot=True, fmt=\"d\")\n",
        "    except ValueError:\n",
        "        raise ValueError(\"Confusion matrix values must be integers.\")\n",
        "    heatmap.yaxis.set_ticklabels(heatmap.yaxis.get_ticklabels(), rotation=0, ha='right', fontsize=fontsize)\n",
        "    heatmap.xaxis.set_ticklabels(heatmap.xaxis.get_ticklabels(), rotation=45, ha='right', fontsize=fontsize)\n",
        "    plt.ylabel('True label')\n",
        "    plt.xlabel('Predicted label')"
      ],
      "metadata": {
        "id": "fDXKuH9AsI8r"
      },
      "execution_count": 159,
      "outputs": []
    },
    {
      "cell_type": "code",
      "source": [
        "class_names = batches.class_indices.keys()\n",
        "confusion_matrix(c_matrix, class_names, figsize = (15,7), fontsize=14)"
      ],
      "metadata": {
        "colab": {
          "base_uri": "https://localhost:8080/",
          "height": 487
        },
        "id": "G0GkiJGasNB3",
        "outputId": "45ada27c-4849-41ef-fdf6-80e9291c3e35"
      },
      "execution_count": 160,
      "outputs": [
        {
          "output_type": "display_data",
          "data": {
            "text/plain": [
              "<Figure size 1080x504 with 2 Axes>"
            ],
            "image/png": "[encoded data removed]"
          },
          "metadata": {
            "needs_background": "light"
          }
        }
      ]
    },
    {
      "cell_type": "code",
      "source": [
        "# From categorical outputs to discrete values\n",
        "\n",
        "y_pred_ = [np.argmax(y) for y in y_pred]\n",
        "y_test_ = [np.argmax(y) for y in y_test]\n",
        "\n",
        "from sklearn.metrics import classification_report\n",
        "print(classification_report(y_test_, y_pred_))"
      ],
      "metadata": {
        "colab": {
          "base_uri": "https://localhost:8080/"
        },
        "id": "6xKfQ2rnsTHv",
        "outputId": "00c24a0f-3e5a-4b59-b65a-1e9bc562d13a"
      },
      "execution_count": 161,
      "outputs": [
        {
          "output_type": "stream",
          "name": "stdout",
          "text": [
            "              precision    recall  f1-score   support\n",
            "\n",
            "           0       0.95      0.94      0.95       105\n",
            "           1       0.92      0.96      0.94       100\n",
            "           2       0.93      0.95      0.94        79\n",
            "           3       1.00      0.94      0.97        85\n",
            "\n",
            "    accuracy                           0.95       369\n",
            "   macro avg       0.95      0.95      0.95       369\n",
            "weighted avg       0.95      0.95      0.95       369\n",
            "\n"
          ]
        }
      ]
    },
    {
      "cell_type": "code",
      "source": [
        ""
      ],
      "metadata": {
        "id": "WGXaRtidscvE"
      },
      "execution_count": null,
      "outputs": []
    }
  ]
}